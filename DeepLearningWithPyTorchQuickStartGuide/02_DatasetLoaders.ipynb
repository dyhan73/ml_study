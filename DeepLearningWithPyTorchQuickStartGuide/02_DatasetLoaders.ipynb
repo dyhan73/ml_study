{
 "cells": [
  {
   "cell_type": "code",
   "execution_count": 1,
   "metadata": {
    "collapsed": true,
    "pycharm": {
     "is_executing": false
    }
   },
   "outputs": [
    {
     "name": "stdout",
     "text": [
      "Files already downloaded and verified\n"
     ],
     "output_type": "stream"
    },
    {
     "data": {
      "text/plain": "Dataset CIFAR10\n    Number of datapoints: 50000\n    Root location: ./data\n    Split: Train"
     },
     "metadata": {},
     "output_type": "execute_result",
     "execution_count": 1
    }
   ],
   "source": [
    "import torch\n",
    "import torchvision\n",
    "import torchvision.transforms as transforms"
   ]
  },
  {
   "cell_type": "code",
   "execution_count": null,
   "outputs": [],
   "source": [
    "# Download training set\n",
    "trainset = torchvision.datasets.CIFAR10(root='./data', train=True, download=True, transform=transforms.ToTensor())\n",
    "trainset"
   ],
   "metadata": {
    "collapsed": false,
    "pycharm": {
     "name": "#%%\n"
    }
   }
  },
  {
   "cell_type": "code",
   "execution_count": 3,
   "outputs": [
    {
     "name": "stdout",
     "text": [
      "size of image torch.Size([3, 32, 32]) label 6\nsize of image torch.Size([3, 32, 32]) label 9\nsize of image torch.Size([3, 32, 32]) label 9\nsize of image torch.Size([3, 32, 32]) label 4\n(tensor([[[0.2314, 0.1686, 0.1961,  ..., 0.6196, 0.5961, 0.5804],\n         [0.0627, 0.0000, 0.0706,  ..., 0.4824, 0.4667, 0.4784],\n         [0.0980, 0.0627, 0.1922,  ..., 0.4627, 0.4706, 0.4275],\n         ...,\n         [0.8157, 0.7882, 0.7765,  ..., 0.6275, 0.2196, 0.2078],\n         [0.7059, 0.6784, 0.7294,  ..., 0.7216, 0.3804, 0.3255],\n         [0.6941, 0.6588, 0.7020,  ..., 0.8471, 0.5922, 0.4824]],\n\n        [[0.2431, 0.1804, 0.1882,  ..., 0.5176, 0.4902, 0.4863],\n         [0.0784, 0.0000, 0.0314,  ..., 0.3451, 0.3255, 0.3412],\n         [0.0941, 0.0275, 0.1059,  ..., 0.3294, 0.3294, 0.2863],\n         ...,\n         [0.6667, 0.6000, 0.6314,  ..., 0.5216, 0.1216, 0.1333],\n         [0.5451, 0.4824, 0.5647,  ..., 0.5804, 0.2431, 0.2078],\n         [0.5647, 0.5059, 0.5569,  ..., 0.7216, 0.4627, 0.3608]],\n\n        [[0.2471, 0.1765, 0.1686,  ..., 0.4235, 0.4000, 0.4039],\n         [0.0784, 0.0000, 0.0000,  ..., 0.2157, 0.1961, 0.2235],\n         [0.0824, 0.0000, 0.0314,  ..., 0.1961, 0.1961, 0.1647],\n         ...,\n         [0.3765, 0.1333, 0.1020,  ..., 0.2745, 0.0275, 0.0784],\n         [0.3765, 0.1647, 0.1176,  ..., 0.3686, 0.1333, 0.1333],\n         [0.4549, 0.3686, 0.3412,  ..., 0.5490, 0.3294, 0.2824]]]), 6)\n"
     ],
     "output_type": "stream"
    }
   ],
   "source": [
    "# check trainset\n",
    "for i in range(len(trainset)):\n",
    "    print('size of image {} label {}'.format(trainset[i][0].size(), trainset[i][1]))\n",
    "    if i > 2: break\n",
    "    \n",
    "print(trainset[0])\n"
   ],
   "metadata": {
    "collapsed": false,
    "pycharm": {
     "name": "#%%\n",
     "is_executing": false
    }
   }
  },
  {
   "cell_type": "code",
   "execution_count": 5,
   "outputs": [
    {
     "data": {
      "text/plain": "<matplotlib.image.AxesImage at 0x133e3a4a8>"
     },
     "metadata": {},
     "output_type": "execute_result",
     "execution_count": 5
    }
   ],
   "source": [
    "# display an image\n",
    "import matplotlib.pyplot as plt\n",
    "%matplotlib inline\n",
    "\n",
    "torchimage = trainset[0][0]\n",
    "npimage = torchimage.permute(1,2,0)\n",
    "plt.imshow(npimage)"
   ],
   "metadata": {
    "collapsed": false,
    "pycharm": {
     "name": "#%%\n",
     "is_executing": false
    }
   }
  },
  {
   "cell_type": "code",
   "execution_count": 14,
   "outputs": [
    {
     "name": "stdout",
     "text": [
      "tensor([4, 8, 0, 8])\ntorch.Size([4, 3, 32, 32])\n"
     ],
     "output_type": "stream"
    }
   ],
   "source": [
    "# DataLoader - multipurpose iterator\n",
    "trainloader = torch.utils.data.DataLoader(trainset, batch_size=4, shuffle=True)\n",
    "dataiter = iter(trainloader)\n",
    "images, labels = dataiter.next()\n",
    "print(labels[0:])\n",
    "print(images.size())"
   ],
   "metadata": {
    "collapsed": false,
    "pycharm": {
     "name": "#%%\n",
     "is_executing": false
    }
   }
  },
  {
   "cell_type": "code",
   "execution_count": 1,
   "outputs": [],
   "source": [
    "#Custom Dataset\n",
    "from torch.utils.data import Dataset, DataLoader\n",
    "from torchvision import transforms\n",
    "from PIL import Image\n",
    "import torch\n",
    "import csv\n",
    "import os\n",
    "\n",
    "class toyDataset(Dataset):\n",
    "    def __init__(self, dataPath, labelsFile, transform=None):\n",
    "        self.dataPath = dataPath\n",
    "        self.transform = transform\n",
    "        \n",
    "        with open(os.path.join(self.dataPath, labelsFile)) as f:\n",
    "            self.labels = [tuple(line) for line in csv.reader(f)]\n",
    "            \n",
    "        for i in range(len(self.labels)):\n",
    "            assert os.path.isfile(dataPath + '/' + self.labels[i][0]), self.labels[i][0]\n",
    "            \n",
    "    def __len__(self):\n",
    "        return len(self.labels)\n",
    "    \n",
    "    def __getitem__(self, idx):\n",
    "        imageName, imageLabel = self.labels[idx][0:]\n",
    "        imagePath = os.path.join(self.dataPath, imageName)\n",
    "        image = Image.open(open(imagePath, 'rb'))\n",
    "        \n",
    "        if self.transform:\n",
    "            image = self.transform(image)\n",
    "        return((image, imageLabel))\n",
    "    "
   ],
   "metadata": {
    "collapsed": false,
    "pycharm": {
     "name": "#%%\n",
     "is_executing": false
    }
   }
  },
  {
   "cell_type": "code",
   "execution_count": 2,
   "outputs": [],
   "source": [
    "# transform\n",
    "tforms = transforms.Compose([transforms.Grayscale(3), \n",
    "                             transforms.CenterCrop(300), \n",
    "                             transforms.ToTensor()])\n",
    "toyData = toyDataset('data/GiuseppeToys', 'labels2.csv', transform=tforms)\n"
   ],
   "metadata": {
    "collapsed": false,
    "pycharm": {
     "name": "#%%\n",
     "is_executing": false
    }
   }
  },
  {
   "cell_type": "code",
   "execution_count": 3,
   "outputs": [
    {
     "name": "stdout",
     "text": [
      "(' toy', ' toy')\ntorch.Size([2, 3, 300, 300])\n"
     ],
     "output_type": "stream"
    }
   ],
   "source": [
    "toyloader = DataLoader(toyData, batch_size=2, shuffle=True)\n",
    "toyiter = iter(toyloader)\n",
    "images, labels = toyiter.next()\n",
    "print(labels[0:])\n",
    "print(images.size())"
   ],
   "metadata": {
    "collapsed": false,
    "pycharm": {
     "name": "#%%\n",
     "is_executing": false
    }
   }
  },
  {
   "cell_type": "code",
   "execution_count": 6,
   "outputs": [
    {
     "name": "stdout",
     "text": [
      "tensor([2, 2, 1, 2]) torch.Size([4, 3, 300, 300])\n['NoToy', 'Scenes', 'SingleToy']\n"
     ],
     "output_type": "stream"
    }
   ],
   "source": [
    "# using datasets.ImageFolder\n",
    "from torchvision import datasets\n",
    "dataFromFolders = datasets.ImageFolder(root='data/GiuseppeToys/images', transform=tforms)\n",
    "folderloader = DataLoader(dataFromFolders, batch_size=4, shuffle=True)\n",
    "images, labels = iter(folderloader).next()\n",
    "print(labels, images.size())\n",
    "print(folderloader.dataset.classes)"
   ],
   "metadata": {
    "collapsed": false,
    "pycharm": {
     "name": "#%%\n",
     "is_executing": false
    }
   }
  },
  {
   "cell_type": "code",
   "execution_count": null,
   "outputs": [],
   "source": [
    "cc2 = RemoveChannel('b')"
   ],
   "metadata": {
    "collapsed": false,
    "pycharm": {
     "name": "#%%\n"
    }
   }
  }
 ],
 "metadata": {
  "language_info": {
   "codemirror_mode": {
    "name": "ipython",
    "version": 2
   },
   "file_extension": ".py",
   "mimetype": "text/x-python",
   "name": "python",
   "nbconvert_exporter": "python",
   "pygments_lexer": "ipython2",
   "version": "2.7.6"
  },
  "kernelspec": {
   "name": "pycharm-e85a843b",
   "language": "python",
   "display_name": "PyCharm (ml_study)"
  },
  "pycharm": {
   "stem_cell": {
    "cell_type": "raw",
    "source": [],
    "metadata": {
     "collapsed": false
    }
   }
  }
 },
 "nbformat": 4,
 "nbformat_minor": 0
}